{
  "nbformat": 4,
  "nbformat_minor": 0,
  "metadata": {
    "colab": {
      "provenance": []
    },
    "kernelspec": {
      "name": "python3",
      "display_name": "Python 3"
    },
    "language_info": {
      "name": "python"
    }
  },
  "cells": [
    {
      "cell_type": "markdown",
      "source": [
        "1. What are conditional statements? Explain conditional statements with syntax and examples\n",
        "  - Conditional statements are programming instructions used to perform different actions based on different conditions. The most common ones are if, else if, else, and switch."
      ],
      "metadata": {
        "id": "FcL9TktC1uUj"
      }
    },
    {
      "cell_type": "code",
      "source": [
        "\"\"\"Syntax example (JavaScript):\"\"\"\n",
        "if ( condition) {\n",
        "  // code to run if condition is true\n",
        "} else if ( anotherCondition) {\n",
        "  // code if the next condition is true\n",
        "} else {\n",
        "  // code if no condition is true\n",
        "}\n",
        "\"\"\"Example\"\"\"\n",
        "let age = 18;\n",
        "if (age >= 18) {\n",
        "  console.log(\"You are an adult.\");\n",
        "} else {\n",
        "  console.log(\"You are not an adult.\");\n",
        "}\n"
      ],
      "metadata": {
        "id": "4uHNTJeCSd23"
      },
      "execution_count": null,
      "outputs": []
    },
    {
      "cell_type": "markdown",
      "source": [
        "2.   Write a program that grades students based on their marks^\n",
        "8 If greater than 90 then A GradE\n",
        "8 If between 70 and 90 then a B gradE\n",
        "8 If between 50 and 70 then a C gradE\n",
        "8 Below 50 then an F grade"
      ],
      "metadata": {
        "id": "w2o6Vd2gPbrc"
      }
    },
    {
      "cell_type": "code",
      "source": [
        "let marks = 85; // example value\n",
        "let grade;\n",
        "\n",
        "if (marks > 90) {\n",
        "  grade = 'A';\n",
        "} else if (marks > 70 && marks <= 90) {\n",
        "  grade = 'B';\n",
        "} else if (marks > 50 && marks <= 70) {\n",
        "  grade = 'C';\n",
        "} else {\n",
        "  grade = 'F';\n",
        "}\n",
        "console.log(\"Grade:\", grade);\n"
      ],
      "metadata": {
        "id": "_rh2CfXWTBxn"
      },
      "execution_count": null,
      "outputs": []
    },
    {
      "cell_type": "markdown",
      "source": [
        "3.  What are loops, and what do we need them? Explain different types of loops with their syntax and\n",
        "examples.\n",
        "   - Loops are used to repeatedly execute a block of code as long as a condition is true. They help automate repetitive tasks efficiently.\n",
        "\n",
        "\n",
        "\n",
        "\n",
        "\n"
      ],
      "metadata": {
        "id": "cg97M-CSPizn"
      }
    },
    {
      "cell_type": "code",
      "source": [
        "\"\"\"For Loop Example\"\"\"\n",
        "for (let i = 1; i <= 5; i++) {\n",
        "  console.log(i);\n",
        "}\n",
        "// Output: 1 2 3 4 5\n",
        "\n",
        "\"\"\"While Loop Example:\"\"\"\n",
        "let i = 1;\n",
        "while (i <= 5) {\n",
        "  console.log(i);\n",
        "  i++;\n",
        "}\n",
        "\n",
        "\"\"\"Do while Loop\"\"\"\n",
        "let i = 1;\n",
        "do {\n",
        "  console.log(i);\n",
        "  i++;\n",
        "} while (i <= 5);\n",
        "\n"
      ],
      "metadata": {
        "id": "6A8E0rplTLUb"
      },
      "execution_count": null,
      "outputs": []
    },
    {
      "cell_type": "markdown",
      "source": [
        "4. Generate numbers between any 2 given numbers.\n",
        "\n",
        "Ex\n",
        "8 const num1 = 10\n",
        "8 const num2 = 25;\n",
        "\n",
        "Output: 11, 12, 13, …., 25\n",
        "   \n"
      ],
      "metadata": {
        "id": "d7Gutw58Prkb"
      }
    },
    {
      "cell_type": "code",
      "source": [
        "const num1 = 10;\n",
        "const num2 = 25;\n",
        "\n",
        "for (let i = num1 + 1; i <= num2; i++) {\n",
        "  console.log(i);\n",
        "}\n",
        "// Output: 11, 12, 13, …, 25\n"
      ],
      "metadata": {
        "id": "DT_Skvc2TmBc"
      },
      "execution_count": null,
      "outputs": []
    },
    {
      "cell_type": "markdown",
      "source": [
        "5.  Use the while loop to print numbers from 1 to 25 in ascending and descending order.\n"
      ],
      "metadata": {
        "id": "5CW5T_VUPzzW"
      }
    },
    {
      "cell_type": "code",
      "execution_count": null,
      "metadata": {
        "id": "aYFiNWq71rk0"
      },
      "outputs": [],
      "source": [
        "\"\"\"Ascending order\"\"\"\n",
        "let i = 1;\n",
        "while (i <= 25) {\n",
        "  console.log(i);\n",
        "  i++;\n",
        "}\n",
        "\n",
        "\"\"\"Descending order\"\"\"\n",
        "let i = 25;\n",
        "while (i >= 1) {\n",
        "  console.log(i);\n",
        "  i--;\n",
        "}\n"
      ]
    }
  ]
}